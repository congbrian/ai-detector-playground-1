{
 "cells": [
  {
   "cell_type": "code",
   "execution_count": 1,
   "id": "b0bc986e-574a-4fe7-b688-03d60f95037c",
   "metadata": {},
   "outputs": [
    {
     "name": "stderr",
     "output_type": "stream",
     "text": [
      "/opt/anaconda3/lib/python3.11/site-packages/transformers/utils/generic.py:441: UserWarning: torch.utils._pytree._register_pytree_node is deprecated. Please use torch.utils._pytree.register_pytree_node instead.\n",
      "  _torch_pytree._register_pytree_node(\n"
     ]
    }
   ],
   "source": [
    "import numpy as np\n",
    "import torch\n",
    "import transformers\n",
    "import pickle as pkl"
   ]
  },
  {
   "cell_type": "code",
   "execution_count": 46,
   "id": "31769cfb-71fc-4b20-95ca-d50d5cfc4c68",
   "metadata": {},
   "outputs": [],
   "source": [
    "ce_loss_fn = torch.nn.CrossEntropyLoss(reduction=\"none\")\n",
    "softmax_fn = torch.nn.Softmax(dim=-1)"
   ]
  },
  {
   "cell_type": "code",
   "execution_count": 2,
   "id": "a69ea5c5-659a-4bb3-a61f-2650d3597f06",
   "metadata": {},
   "outputs": [],
   "source": [
    "encodings = pkl.load(open(\"encodings.pkl\", 'rb'))\n",
    "observer_logits = pkl.load(open(\"ob_logits.pkl\", 'rb'))\n",
    "performer_logits = pkl.load(open(\"pf_logits.pkl\", 'rb'))\n",
    "pad_token = pkl.load(open(\"pad_token_id.pkl\", 'rb'))"
   ]
  },
  {
   "cell_type": "code",
   "execution_count": 48,
   "id": "ab2c7dcb-85be-4226-9356-9c022406a6f4",
   "metadata": {},
   "outputs": [],
   "source": [
    "np.set_printoptions(formatter={'float_kind':'{:f}'.format})"
   ]
  },
  {
   "cell_type": "code",
   "execution_count": 49,
   "id": "8c7c02d1-ebdc-4b89-a2b2-f2639ba0d2e9",
   "metadata": {},
   "outputs": [],
   "source": [
    "def perplexity(encoding: transformers.BatchEncoding,\n",
    "               logits: torch.Tensor,\n",
    "               median: bool = False,\n",
    "               temperature: float = 1.0):\n",
    "    shifted_logits = logits[..., :-1, :].contiguous() / temperature\n",
    "    # print(shifted_logits)\n",
    "    shifted_labels = encoding.input_ids[..., 1:].contiguous()\n",
    "    # print(shifted_labels)\n",
    "    shifted_attention_mask = encoding.attention_mask[..., 1:].contiguous()\n",
    "    # print(shifted_attention_mask)\n",
    "    if median:\n",
    "        ce_nan = (ce_loss_fn(shifted_logits.transpose(1, 2), shifted_labels).\n",
    "                  masked_fill(~shifted_attention_mask.bool(), float(\"nan\")))\n",
    "        # print(ce_nan)\n",
    "        walk = ce_nan.to(\"cpu\").float().numpy()\n",
    "        # print(walk)\n",
    "        ppl = np.nanmedian(ce_nan.cpu().float().numpy(), 1)\n",
    "\n",
    "    else:\n",
    "        ppl = (ce_loss_fn(shifted_logits.transpose(1, 2), shifted_labels) *\n",
    "               shifted_attention_mask).sum(1) / shifted_attention_mask.sum(1)\n",
    "        ppl = ppl.to(\"cpu\").float().numpy()\n",
    "\n",
    "    return ppl, walk"
   ]
  },
  {
   "cell_type": "code",
   "execution_count": 50,
   "id": "b9663b8d-98fd-4cae-a951-1bf4a0e939af",
   "metadata": {},
   "outputs": [
    {
     "name": "stdout",
     "output_type": "stream",
     "text": [
      "[('Dr.', 0.43164062), ('Capy', 9.75), ('Cosmos,', 7.3125), ('a', 9.1875), ('capybara', 1.15625), ('unlike', 2.515625), ('any', 2.375), ('other,', 7.65625), ('astounded', 0.029052734), ('the', 0.038330078), ('scientific', 10.8125), ('community', 0.21679688), ('with', 0.14746094), ('his', 0.33789062), ('groundbreaking', 9.875), ('research', 1.9375), ('in', 0.9765625), ('astrophysics.', 2.265625), ('With', 0.31054688), ('his', 1.34375), ('keen', 0.44335938), ('sense', 7.6875), ('of', 4.34375), ('observation', 0.39453125), ('and', 1.109375), ('unparalleled', 2.34375), ('ability', 3.453125), ('to', 0.515625), ('interpret', 0.65234375), ('cosmic', 4.09375), ('data,', 1.3515625), ('he', 5.09375), ('uncovered', 2.109375), ('new', 0.09423828), ('insights', 2.21875), ('into', 0.73046875), ('the', 5.09375), ('mysteries', 3.1875), ('of', 0.28320312), ('black', 4.96875), ('holes', 3.78125), ('and', 4.5), ('the', 0.18261719), ('origins', 1.796875), ('of', 0.10986328), ('the', 1.4140625), ('universe.', 4.28125), ('As', 3.484375), ('he', 2.625), ('peered', 0.43164062), ('through', 0.29296875), ('telescopes', 2.40625), ('with', 0.03881836), ('his', 3.859375), ('large,', 0.041992188), ('round', 0.9453125), ('eyes,', 1.359375), ('fellow', 2.5), ('researchers', 0.010864258), ('often', 0.19921875), ('remarked', 0.13378906), ('that', 0.12792969), ('it', 4.375), ('seemed', 2.53125), ('as', 0.65625), ('if', 7.28125), ('the', 1.1328125), ('stars', 1.6328125), ('themselves', 4.09375), ('whispered', 0.0087890625), ('their', 4.71875), ('secrets', 0.8359375), ('directly', 4.09375), ('to', 0.5546875), ('him.', 2.578125), ('Dr.', 0.38671875), ('Cosmos', 0.21582031), ('not', 9.1875), ('only', 2.140625), ('became', 3.21875), ('a', 2.59375), ('beacon', 1.1171875), ('of', 3.4375), ('inspiration', 1.9140625), ('to', 0.71484375), ('aspiring', 0.51171875), ('scientists', 2.109375), ('but', 0.22265625), ('also', 2.828125), ('proved', 1.3828125), ('that', 6.375), ('intellect', 1.4765625), ('and', 0.14257812), ('innovation', 3.1875), ('can', 0.6640625), ('be', 0.40039062), ('found', 0.09863281), ('in', 3.5), ('the', 0.0030670166), ('most', 0.1953125), ('unexpected', 0.0012512207), ('of', 6.96875), ('creatures.', 0.011657715)]\n",
      "[('Dr.', 0.6953125), ('Capy', 9.8125), ('Cosmos,', 6.03125), ('a', 9.75), ('capybara', 1.84375), ('unlike', 2.984375), ('any', 1.921875), ('other,', 6.9375), ('astounded', 0.040771484), ('the', 0.026123047), ('scientific', 11.5), ('community', 0.27734375), ('with', 0.140625), ('his', 0.3046875), ('groundbreaking', 9.0625), ('research', 1.765625), ('in', 1.1171875), ('astrophysics.', 2.4375), ('With', 0.71484375), ('his', 1.0859375), ('keen', 1.4296875), ('sense', 8.125), ('of', 5.90625), ('observation', 0.5859375), ('and', 1.703125), ('unparalleled', 2.34375), ('ability', 1.84375), ('to', 0.51171875), ('interpret', 0.31640625), ('cosmic', 3.34375), ('data,', 1.4609375), ('he', 3.03125), ('uncovered', 2.46875), ('new', 0.048828125), ('insights', 3.328125), ('into', 1.1640625), ('the', 4.4375), ('mysteries', 4.03125), ('of', 0.30859375), ('black', 5.59375), ('holes', 2.984375), ('and', 3.515625), ('the', 0.04296875), ('origins', 2.4375), ('of', 0.08886719), ('the', 1.6328125), ('universe.', 3.828125), ('As', 4.4375), ('he', 1.046875), ('peered', 0.67578125), ('through', 0.20214844), ('telescopes', 3.46875), ('with', 0.053955078), ('his', 3.546875), ('large,', 0.009399414), ('round', 0.55859375), ('eyes,', 0.703125), ('fellow', 2.078125), ('researchers', 0.011169434), ('often', 0.1875), ('remarked', 0.034423828), ('that', 0.2734375), ('it', 3.703125), ('seemed', 2.625), ('as', 0.4375), ('if', 7.28125), ('the', 0.25390625), ('stars', 1.1640625), ('themselves', 3.765625), ('whispered', 0.19628906), ('their', 3.515625), ('secrets', 0.88671875), ('directly', 3.28125), ('to', 0.48632812), ('him.', 2.40625), ('Dr.', 0.095703125), ('Cosmos', 0.09082031), ('not', 8.75), ('only', 2.28125), ('became', 4.4375), ('a', 2.453125), ('beacon', 1.390625), ('of', 2.59375), ('inspiration', 1.859375), ('to', 0.99609375), ('aspiring', 0.24804688), ('scientists', 1.9921875), ('but', 0.25195312), ('also', 1.46875), ('proved', 0.625), ('that', 5.625), ('intellect', 2.28125), ('and', 0.025756836), ('innovation', 4.5625), ('can', 0.1328125), ('be', 0.26757812), ('found', 0.0390625), ('in', 2.65625), ('the', 0.010314941), ('most', 0.2109375), ('unexpected', 0.0050354004), ('of', 6.21875), ('creatures.', 0.009643555)]\n"
     ]
    }
   ],
   "source": [
    "# print(perplexity(encodings, observer_logits, median=True))\n",
    "# print(perplexity(encodings, performer_logits, median=True))\n",
    "# ob_ppl, ob_walk = perplexity(encodings, observer_logits, median=True)\n",
    "pf_ppl, pf_walk = perplexity(encodings, performer_logits, median=True)\n",
    "sample_string = '''Dr. Capy Cosmos, a capybara unlike any other, astounded the scientific community with his\n",
    "groundbreaking research in astrophysics. With his keen sense of observation and unparalleled ability to interpret\n",
    "cosmic data, he uncovered new insights into the mysteries of black holes and the origins of the universe. As he\n",
    "peered through telescopes with his large, round eyes, fellow researchers often remarked that it seemed as if the\n",
    "stars themselves whispered their secrets directly to him. Dr. Cosmos not only became a beacon of inspiration to\n",
    "aspiring scientists but also proved that intellect and innovation can be found in the most unexpected of creatures.'''\n",
    "# ob_ppl_list = [(word, ob_walk[0][w]) for w, word in enumerate(sample_string.split())]\n",
    "pf_ppl_list = [(word, pf_walk[0][w]) for w, word in enumerate(sample_string.split())]\n",
    "print(ob_ppl_list)\n",
    "print(pf_ppl_list)"
   ]
  },
  {
   "cell_type": "code",
   "execution_count": null,
   "id": "61e54747-1395-4909-ad6b-47725f899c77",
   "metadata": {},
   "outputs": [],
   "source": [
    "# original\n",
    "# ppl = perplexity(encodings, performer_logits)\n",
    "# x_ppl = entropy(observer_logits.to(DEVICE_1), performer_logits.to(DEVICE_1),\n",
    "#                 encodings.to(DEVICE_1), self.tokenizer.pad_token_id)\n",
    "x_ppl, en_walk = entropy(observer_logits, performer_logits, encodings, pad_token)\n",
    "pkl.dump(open('en_walk.pkl', 'wb'))\n"
   ]
  },
  {
   "cell_type": "code",
   "execution_count": 41,
   "id": "5fff1d0e-c5f0-4859-87df-190fe3d8e4c4",
   "metadata": {},
   "outputs": [],
   "source": [
    "def entropy(p_logits: torch.Tensor,\n",
    "            q_logits: torch.Tensor,\n",
    "            encoding: transformers.BatchEncoding,\n",
    "            pad_token_id: int,\n",
    "            median: bool = False,\n",
    "            sample_p: bool = False,\n",
    "            temperature: float = 1.0):\n",
    "    vocab_size = p_logits.shape[-1]\n",
    "    total_tokens_available = q_logits.shape[-2]\n",
    "    p_scores, q_scores = p_logits / temperature, q_logits / temperature\n",
    "\n",
    "    p_proba = softmax_fn(p_scores).view(-1, vocab_size)\n",
    "\n",
    "    if sample_p:\n",
    "        p_proba = torch.multinomial(p_proba.view(-1, vocab_size), replacement=True, num_samples=1).view(-1)\n",
    "\n",
    "    q_scores = q_scores.view(-1, vocab_size)\n",
    "\n",
    "    ce = ce_loss_fn(input=q_scores, target=p_proba).view(-1, total_tokens_available)\n",
    "    padding_mask = (encoding.input_ids != pad_token_id).type(torch.uint8)\n",
    "\n",
    "    if median:\n",
    "        ce_nan = ce.masked_fill(~padding_mask.bool(), float(\"nan\"))\n",
    "        en_walk = ce_nan.to(\"cpu\").float().numpy()\n",
    "        agg_ce = np.nanmedian(ce_nan.cpu().float().numpy(), 1)\n",
    "    else:\n",
    "        agg_ce = (((ce * padding_mask).sum(1) / padding_mask.sum(1)).to(\"cpu\").float().numpy())\n",
    "\n",
    "    return agg_ce, en_walk"
   ]
  },
  {
   "cell_type": "code",
   "execution_count": null,
   "id": "abe5d33f-8c36-43b3-8caa-af250d005cf8",
   "metadata": {},
   "outputs": [],
   "source": [
    "bino_walk = (pf_walk / en_walk)\n",
    "pkl.dump(open(\"bino_walk\", 'wb'))"
   ]
  }
 ],
 "metadata": {
  "kernelspec": {
   "display_name": "Python 3 (ipykernel)",
   "language": "python",
   "name": "python3"
  },
  "language_info": {
   "codemirror_mode": {
    "name": "ipython",
    "version": 3
   },
   "file_extension": ".py",
   "mimetype": "text/x-python",
   "name": "python",
   "nbconvert_exporter": "python",
   "pygments_lexer": "ipython3",
   "version": "3.11.7"
  }
 },
 "nbformat": 4,
 "nbformat_minor": 5
}
