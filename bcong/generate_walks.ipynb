{
 "cells": [
  {
   "cell_type": "code",
   "execution_count": null,
   "id": "41a3223f-dfbe-4c03-a3ea-952428ecfdc8",
   "metadata": {},
   "outputs": [],
   "source": [
    "# For usage on google colab:\n",
    "!git clone https://github.com/ahans30/Binoculars.git\n",
    "%cd Binoculars\n",
    "!pip install -e ."
   ]
  },
  {
   "cell_type": "code",
   "execution_count": null,
   "id": "9ecd95a0-5e39-4daa-bb73-d0399e4fb15b",
   "metadata": {},
   "outputs": [],
   "source": [
    "from binoculars import Binoculars"
   ]
  },
  {
   "cell_type": "code",
   "execution_count": null,
   "id": "75b04acf-f717-4649-8f28-128fd25b98c4",
   "metadata": {},
   "outputs": [],
   "source": [
    "import numpy as np\n",
    "import torch\n",
    "import transformers\n",
    "import pickle as pkl\n",
    "import pandas as pd\n",
    "from google.colab import files"
   ]
  },
  {
   "cell_type": "code",
   "execution_count": null,
   "id": "39eef5da-f8cd-454e-b671-8e8b3c8506de",
   "metadata": {},
   "outputs": [],
   "source": [
    "bino = Binoculars()"
   ]
  },
  {
   "cell_type": "code",
   "execution_count": null,
   "id": "b707fc1e-68f4-4385-b3e0-9377e3152f62",
   "metadata": {},
   "outputs": [],
   "source": [
    "df = pd.read_csv(\"raid_test_100.csv\")"
   ]
  },
  {
   "cell_type": "code",
   "execution_count": 11,
   "id": "58b6c8d8-47e4-45b7-9ab5-5fa8cae995ed",
   "metadata": {},
   "outputs": [
    {
     "data": {
      "text/html": [
       "<div>\n",
       "<style scoped>\n",
       "    .dataframe tbody tr th:only-of-type {\n",
       "        vertical-align: middle;\n",
       "    }\n",
       "\n",
       "    .dataframe tbody tr th {\n",
       "        vertical-align: top;\n",
       "    }\n",
       "\n",
       "    .dataframe thead th {\n",
       "        text-align: right;\n",
       "    }\n",
       "</style>\n",
       "<table border=\"1\" class=\"dataframe\">\n",
       "  <thead>\n",
       "    <tr style=\"text-align: right;\">\n",
       "      <th></th>\n",
       "      <th>Unnamed: 0</th>\n",
       "      <th>generation</th>\n",
       "      <th>attack</th>\n",
       "      <th>domain</th>\n",
       "      <th>repetition_penalty</th>\n",
       "      <th>model</th>\n",
       "    </tr>\n",
       "  </thead>\n",
       "  <tbody>\n",
       "    <tr>\n",
       "      <th>0</th>\n",
       "      <td>0</td>\n",
       "      <td>Segmentations-Leak: Membership Inference Attac...</td>\n",
       "      <td>perplexity_misspelling</td>\n",
       "      <td>abstracts</td>\n",
       "      <td>no</td>\n",
       "      <td>mistral-chat</td>\n",
       "    </tr>\n",
       "    <tr>\n",
       "      <th>1</th>\n",
       "      <td>1</td>\n",
       "      <td>Farshid Jamshidian is a finance researcher, ac...</td>\n",
       "      <td>insert_paragraphs</td>\n",
       "      <td>wiki</td>\n",
       "      <td>NaN</td>\n",
       "      <td>human</td>\n",
       "    </tr>\n",
       "    <tr>\n",
       "      <th>2</th>\n",
       "      <td>2</td>\n",
       "      <td>Transient spine enlargement (3-5 min timesca...</td>\n",
       "      <td>alternative_spelling</td>\n",
       "      <td>abstracts</td>\n",
       "      <td>NaN</td>\n",
       "      <td>human</td>\n",
       "    </tr>\n",
       "    <tr>\n",
       "      <th>3</th>\n",
       "      <td>3</td>\n",
       "      <td>The   viola da Terceira  (also viola Terceiren...</td>\n",
       "      <td>whitespace</td>\n",
       "      <td>wiki</td>\n",
       "      <td>NaN</td>\n",
       "      <td>human</td>\n",
       "    </tr>\n",
       "    <tr>\n",
       "      <th>4</th>\n",
       "      <td>4</td>\n",
       "      <td>Yes this review is 2 years after the film's re...</td>\n",
       "      <td>insert_paragraphs</td>\n",
       "      <td>reviews</td>\n",
       "      <td>NaN</td>\n",
       "      <td>human</td>\n",
       "    </tr>\n",
       "  </tbody>\n",
       "</table>\n",
       "</div>"
      ],
      "text/plain": [
       "   Unnamed: 0                                         generation  \\\n",
       "0           0  Segmentations-Leak: Membership Inference Attac...   \n",
       "1           1  Farshid Jamshidian is a finance researcher, ac...   \n",
       "2           2    Transient spine enlargement (3-5 min timesca...   \n",
       "3           3  The   viola da Terceira  (also viola Terceiren...   \n",
       "4           4  Yes this review is 2 years after the film's re...   \n",
       "\n",
       "                   attack     domain repetition_penalty         model  \n",
       "0  perplexity_misspelling  abstracts                 no  mistral-chat  \n",
       "1       insert_paragraphs       wiki                NaN         human  \n",
       "2    alternative_spelling  abstracts                NaN         human  \n",
       "3              whitespace       wiki                NaN         human  \n",
       "4       insert_paragraphs    reviews                NaN         human  "
      ]
     },
     "execution_count": 11,
     "metadata": {},
     "output_type": "execute_result"
    }
   ],
   "source": [
    "df.head()"
   ]
  },
  {
   "cell_type": "code",
   "execution_count": 13,
   "id": "2edaef14-f220-4536-a9c3-78a8967ad431",
   "metadata": {},
   "outputs": [
    {
     "name": "stdout",
     "output_type": "stream",
     "text": [
      "                                           generation\n",
      "0   Segmentations-Leak: Membership Inference Attac...\n",
      "1   Farshid Jamshidian is a finance researcher, ac...\n",
      "2     Transient spine enlargement (3-5 min timesca...\n",
      "3   The   viola da Terceira  (also viola Terceiren...\n",
      "4   Yes this review is 2 years after the film's re...\n",
      "..                                                ...\n",
      "95    We consider the orbit type filtration on a m...\n",
      "96  George Michael is to perform live at London's ...\n",
      "97  Nicole Kelly is an Australian contemporary Chr...\n",
      "98  In this paper, we propose a novel approach to ...\n",
      "99  If   life is still bad for me even  when I com...\n",
      "\n",
      "[100 rows x 1 columns]\n"
     ]
    }
   ],
   "source": [
    "texts = df[['generation']]\n",
    "print(texts)"
   ]
  },
  {
   "cell_type": "code",
   "execution_count": null,
   "id": "7de121a0-8abe-4496-a44b-4adb7994a558",
   "metadata": {},
   "outputs": [],
   "source": [
    "batch = [texts] if isinstance(sample_string, str) else sample_string\n",
    "encodings = bino._tokenize(batch)\n",
    "observer_logits, performer_logits = bino._get_logits(encodings)\n",
    "pad_token_id = bino.tokenizer.pad_token_id"
   ]
  },
  {
   "cell_type": "code",
   "execution_count": null,
   "id": "b8379762-b07c-4174-a2ad-c6e742c99282",
   "metadata": {},
   "outputs": [],
   "source": [
    "ce_loss_fn = torch.nn.CrossEntropyLoss(reduction=\"none\")\n",
    "softmax_fn = torch.nn.Softmax(dim=-1)\n",
    "np.set_printoptions(formatter={'float_kind':'{:f}'.format})"
   ]
  },
  {
   "cell_type": "code",
   "execution_count": null,
   "id": "ab7ac1d8-f594-4b6e-8a5f-d74e9989bb13",
   "metadata": {},
   "outputs": [],
   "source": [
    "def perplexity(encoding: transformers.BatchEncoding,\n",
    "               logits: torch.Tensor,\n",
    "               median: bool = False,\n",
    "               temperature: float = 1.0):\n",
    "    shifted_logits = logits[..., :-1, :].contiguous() / temperature\n",
    "    # print(shifted_logits)\n",
    "    shifted_labels = encoding.input_ids[..., 1:].contiguous()\n",
    "    # print(shifted_labels)\n",
    "    shifted_attention_mask = encoding.attention_mask[..., 1:].contiguous()\n",
    "    # print(shifted_attention_mask)\n",
    "    if median:\n",
    "        ce_nan = (ce_loss_fn(shifted_logits.transpose(1, 2), shifted_labels).\n",
    "                  masked_fill(~shifted_attention_mask.bool(), float(\"nan\")))\n",
    "        # print(ce_nan)\n",
    "        walk = ce_nan.to(\"cpu\").float().numpy()\n",
    "        # print(walk)\n",
    "        ppl = np.nanmedian(ce_nan.cpu().float().numpy(), 1)\n",
    "\n",
    "    else:\n",
    "        ppl = (ce_loss_fn(shifted_logits.transpose(1, 2), shifted_labels) *\n",
    "               shifted_attention_mask).sum(1) / shifted_attention_mask.sum(1)\n",
    "        ppl = ppl.to(\"cpu\").float().numpy()\n",
    "\n",
    "    return ppl, walk\n",
    "pf_ppl, pf_walk = perplexity(encodings, performer_logits, median=True)"
   ]
  },
  {
   "cell_type": "code",
   "execution_count": null,
   "id": "f227882a-ce7d-4d67-ae14-3df28c1801e7",
   "metadata": {},
   "outputs": [],
   "source": [
    "def entropy(p_logits: torch.Tensor,\n",
    "            q_logits: torch.Tensor,\n",
    "            encoding: transformers.BatchEncoding,\n",
    "            pad_token_id: int,\n",
    "            median: bool = False,\n",
    "            sample_p: bool = False,\n",
    "            temperature: float = 1.0):\n",
    "    vocab_size = p_logits.shape[-1]\n",
    "    total_tokens_available = q_logits.shape[-2]\n",
    "    p_scores, q_scores = p_logits / temperature, q_logits / temperature\n",
    "\n",
    "    p_proba = softmax_fn(p_scores).view(-1, vocab_size)\n",
    "\n",
    "    if sample_p:\n",
    "        p_proba = torch.multinomial(p_proba.view(-1, vocab_size), replacement=True, num_samples=1).view(-1)\n",
    "\n",
    "    q_scores = q_scores.view(-1, vocab_size)\n",
    "\n",
    "    ce = ce_loss_fn(input=q_scores, target=p_proba).view(-1, total_tokens_available)\n",
    "    padding_mask = (encoding.input_ids != pad_token_id).type(torch.uint8)\n",
    "\n",
    "    if median:\n",
    "        ce_nan = ce.masked_fill(~padding_mask.bool(), float(\"nan\"))\n",
    "        en_walk = ce_nan.to(\"cpu\").float().numpy()\n",
    "        agg_ce = np.nanmedian(ce_nan.cpu().float().numpy(), 1)\n",
    "        return agg_ce, en_walk\n",
    "    else:\n",
    "        agg_ce = (((ce * padding_mask).sum(1) / padding_mask.sum(1)).to(\"cpu\").float().numpy())\n",
    "\n",
    "    return agg_ce\n",
    "x_ppl, en_walk = entropy(observer_logits, performer_logits, encodings, pad_token, median=True)"
   ]
  },
  {
   "cell_type": "code",
   "execution_count": null,
   "id": "41fb178a-f919-4590-935f-9f6ddeb98e89",
   "metadata": {},
   "outputs": [],
   "source": [
    "bino_walk = (pf_walk / en_walk[..., :130])"
   ]
  }
 ],
 "metadata": {
  "kernelspec": {
   "display_name": "Python 3 (ipykernel)",
   "language": "python",
   "name": "python3"
  },
  "language_info": {
   "codemirror_mode": {
    "name": "ipython",
    "version": 3
   },
   "file_extension": ".py",
   "mimetype": "text/x-python",
   "name": "python",
   "nbconvert_exporter": "python",
   "pygments_lexer": "ipython3",
   "version": "3.11.7"
  }
 },
 "nbformat": 4,
 "nbformat_minor": 5
}
