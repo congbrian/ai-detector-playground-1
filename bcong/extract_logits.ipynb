{
 "cells": [
  {
   "cell_type": "markdown",
   "id": "5b2f8bce-8f85-47f1-9cac-c30000fc545f",
   "metadata": {},
   "source": [
    "For usage on google colab -- requires pretty high GPU requirements"
   ]
  },
  {
   "cell_type": "code",
   "execution_count": null,
   "id": "2a1eff45-2781-4d82-9742-df8b32fd0ee3",
   "metadata": {},
   "outputs": [],
   "source": [
    "!git clone https://github.com/ahans30/Binoculars.git\n",
    "%cd Binoculars\n",
    "!pip install -e ."
   ]
  },
  {
   "cell_type": "code",
   "execution_count": null,
   "id": "55010e95-305b-4312-810e-9e1db8875f26",
   "metadata": {},
   "outputs": [],
   "source": [
    "from binoculars import Binoculars\n",
    "import pickle as pkl\n",
    "\n",
    "bino = Binoculars()\n",
    "#TODO: Run inference and get logits on new RAID_Small csv\n",
    "# ChatGPT (GPT-4) output when prompted with “Can you write a few sentences about a capybara that is an astrophysicist?\"\n",
    "sample_string = '''Dr. Capy Cosmos, a capybara unlike any other, astounded the scientific community with his\n",
    "groundbreaking research in astrophysics. With his keen sense of observation and unparalleled ability to interpret\n",
    "cosmic data, he uncovered new insights into the mysteries of black holes and the origins of the universe. As he\n",
    "peered through telescopes with his large, round eyes, fellow researchers often remarked that it seemed as if the\n",
    "stars themselves whispered their secrets directly to him. Dr. Cosmos not only became a beacon of inspiration to\n",
    "aspiring scientists but also proved that intellect and innovation can be found in the most unexpected of creatures.'''\n",
    "\n",
    "print(bino.compute_score(sample_string))  # 0.75661373\n",
    "print(bino.predict(sample_string))  # 'Most likely AI-Generated'\n",
    "batch = [sample_string] if isinstance(sample_string, str) else sample_string\n",
    "encodings = bino._tokenize(batch)\n",
    "observer_logits, performer_logits = bino._get_logits(encodings)\n",
    "print(observer_logits, performer_logits) # print logits\n",
    "pkl.dump(encodings, open('encodings.pkl', 'wb'))\n",
    "pkl.dump(observer_logits, open('ob_logits.pkl', 'wb'))\n",
    "pkl.dump(performer_logits, open('pf_logits.pkl', 'wb'))"
   ]
  },
  {
   "cell_type": "code",
   "execution_count": null,
   "id": "72dcd904-76e9-4121-962c-233da4c772bf",
   "metadata": {},
   "outputs": [],
   "source": [
    "from google.colab import files\n",
    "\n",
    "files.download('ob_logits.pkl')\n",
    "files.download('pf_logits.pkl')\n",
    "files.download('encodings.pkl')"
   ]
  },
  {
   "cell_type": "code",
   "execution_count": null,
   "id": "b044b905-fa4d-48d9-87ba-b6db328ad513",
   "metadata": {},
   "outputs": [],
   "source": [
    "from google.colab import runtime\n",
    "\n",
    "runtime.unassign()"
   ]
  }
 ],
 "metadata": {
  "kernelspec": {
   "display_name": "Python 3 (ipykernel)",
   "language": "python",
   "name": "python3"
  },
  "language_info": {
   "codemirror_mode": {
    "name": "ipython",
    "version": 3
   },
   "file_extension": ".py",
   "mimetype": "text/x-python",
   "name": "python",
   "nbconvert_exporter": "python",
   "pygments_lexer": "ipython3",
   "version": "3.11.7"
  }
 },
 "nbformat": 4,
 "nbformat_minor": 5
}
